{
 "cells": [
  {
   "cell_type": "markdown",
   "metadata": {},
   "source": [
    "# Convolutional Autoencoder"
   ]
  },
  {
   "cell_type": "code",
   "execution_count": 1,
   "metadata": {
    "collapsed": false
   },
   "outputs": [],
   "source": [
    "from theano import tensor as T\n",
    "import theano.tensor.nnet as nnet\n",
    "import theano\n",
    "import numpy as np\n",
    "\n",
    "floatX = theano.config.floatX\n",
    "\n",
    "def conv2d(X, kernal_shape):\n",
    "    assert len(kernal_shape) == 4, \"We need a 4D tensor\"\n",
    "    K = theano.shared(np.random.randn(*kernal_shape).astype(floatX))\n",
    "    return nnet.conv2d(X, K), K\n",
    "\n",
    "def deconv2d(X, kernal_shape):\n",
    "    assert len(kernal_shape) == 4, \"We need a 4D tensor\"\n",
    "    K = theano.shared(np.random.randn(*kernal_shape).astype(floatX))\n",
    "    dummy_image = T.zeros_like(X)\n",
    "    C = nnet.conv2d(dummy_image, K)\n",
    "    return T.grad(T.sum(C), wrt=dummy_image, known_grads={C: X}), K\n",
    "\n",
    "x = np.random.randn(1, 1, 3, 3)\n",
    "X = T.dtensor4()"
   ]
  },
  {
   "cell_type": "code",
   "execution_count": 2,
   "metadata": {
    "collapsed": false
   },
   "outputs": [
    {
     "data": {
      "text/plain": [
       "array([[[[-1.82317023,  0.6997941 ],\n",
       "         [-1.79145671,  2.88682959]]]])"
      ]
     },
     "execution_count": 2,
     "metadata": {},
     "output_type": "execute_result"
    }
   ],
   "source": [
    "Y, K = conv2d(X, (1, 1, 2, 2))\n",
    "Y.eval({X: x})"
   ]
  },
  {
   "cell_type": "code",
   "execution_count": 3,
   "metadata": {
    "collapsed": false
   },
   "outputs": [
    {
     "data": {
      "text/plain": [
       "array([[[[-1.30273398,  3.61756764,  1.22292444,  0.44044936],\n",
       "         [-0.7041309 , -2.41066614, -2.79238586,  1.13051184],\n",
       "         [-0.30588658,  3.90410377, -4.10935702,  1.02847354],\n",
       "         [-0.4573692 ,  0.32098561,  1.14192934, -0.59506591]]]])"
      ]
     },
     "execution_count": 3,
     "metadata": {},
     "output_type": "execute_result"
    }
   ],
   "source": [
    "Y, K = deconv2d(X, (1, 1, 2, 2))\n",
    "Y.eval({X: x})"
   ]
  },
  {
   "cell_type": "code",
   "execution_count": 9,
   "metadata": {
    "collapsed": false
   },
   "outputs": [],
   "source": [
    "X = T.dtensor4()\n",
    "Y, K1 = conv2d(X, (1, 1, 2, 2))\n",
    "Y, K2 = conv2d(Y, (1, 1, 3, 3))\n",
    "Y, K3 = deconv2d(Y, (1, 1, 3, 3))\n",
    "Y, K4 = deconv2d(Y, (1, 1, 2, 2))\n",
    "kernals = [K1, K2, K3, K4]"
   ]
  },
  {
   "cell_type": "code",
   "execution_count": 10,
   "metadata": {
    "collapsed": true
   },
   "outputs": [],
   "source": [
    "step_size = 0.01\n",
    "meanSquaredError = T.mean(T.sqr(Y - X))\n",
    "updates = [(k, k - T.grad(meanSquaredError, wrt=k) * step_size) for k in kernals]"
   ]
  },
  {
   "cell_type": "code",
   "execution_count": 11,
   "metadata": {
    "collapsed": true
   },
   "outputs": [],
   "source": [
    "train_model = theano.function(inputs=[X], outputs=[meanSquaredError], updates=updates)\n",
    "evaluate_model = theano.function(inputs=[X], outputs=[Y])"
   ]
  },
  {
   "cell_type": "code",
   "execution_count": 15,
   "metadata": {
    "collapsed": false
   },
   "outputs": [],
   "source": [
    "size = 5\n",
    "ident_matrix = np.eye(size).reshape(1, 1, size, size)\n",
    "for i in range(100000):\n",
    "    train_model(ident_matrix)\n",
    "    \n",
    "y = evaluate_model(ident_matrix)"
   ]
  },
  {
   "cell_type": "code",
   "execution_count": 16,
   "metadata": {
    "collapsed": false
   },
   "outputs": [
    {
     "data": {
      "text/plain": [
       "array([[[[[ 0.8,  0. , -0. , -0. , -0.3],\n",
       "          [ 0. ,  1. , -0. ,  0. , -0. ],\n",
       "          [-0. , -0. ,  1.2, -0. , -0. ],\n",
       "          [-0. ,  0. , -0. ,  1. ,  0. ],\n",
       "          [-0.3, -0. , -0. ,  0. ,  0.8]]]]])"
      ]
     },
     "execution_count": 16,
     "metadata": {},
     "output_type": "execute_result"
    }
   ],
   "source": [
    "np.round(y, 1)"
   ]
  },
  {
   "cell_type": "code",
   "execution_count": 17,
   "metadata": {
    "collapsed": false
   },
   "outputs": [
    {
     "data": {
      "text/plain": [
       "array([[[[[1, 0, 0, 0, 0],\n",
       "          [0, 1, 0, 0, 0],\n",
       "          [0, 0, 1, 0, 0],\n",
       "          [0, 0, 0, 1, 0],\n",
       "          [0, 0, 0, 0, 1]]]]])"
      ]
     },
     "execution_count": 17,
     "metadata": {},
     "output_type": "execute_result"
    }
   ],
   "source": [
    "np.round(y).astype('int')"
   ]
  }
 ],
 "metadata": {
  "kernelspec": {
   "display_name": "Python 2",
   "language": "python",
   "name": "python2"
  },
  "language_info": {
   "codemirror_mode": {
    "name": "ipython",
    "version": 2
   },
   "file_extension": ".py",
   "mimetype": "text/x-python",
   "name": "python",
   "nbconvert_exporter": "python",
   "pygments_lexer": "ipython2",
   "version": "2.7.11"
  }
 },
 "nbformat": 4,
 "nbformat_minor": 0
}
